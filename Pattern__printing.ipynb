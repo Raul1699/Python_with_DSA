{
  "nbformat": 4,
  "nbformat_minor": 0,
  "metadata": {
    "colab": {
      "provenance": []
    },
    "kernelspec": {
      "name": "python3",
      "display_name": "Python 3"
    },
    "language_info": {
      "name": "python"
    }
  },
  "cells": [
    {
      "cell_type": "markdown",
      "source": [
        "# Pattern printing questions\n",
        "\n",
        "\n",
        "\n",
        "\n"
      ],
      "metadata": {
        "id": "bG1y2oPv5FDa"
      }
    },
    {
      "cell_type": "markdown",
      "source": [
        "Ques1. Square of side 'N'\n",
        "Problem Description: You are given an integer n. Your task is to return a square pattern of size n x n made up of the character '*', represented as a list of strings."
      ],
      "metadata": {
        "id": "YrVt9HAg60gp"
      }
    },
    {
      "cell_type": "code",
      "source": [
        "def generate_square(n):\n",
        "    \"\"\"\n",
        "    Function to return a square pattern of '*' of side n as a list of strings.\n",
        "\n",
        "    Parameters:\n",
        "    n (int): The size of the square.\n",
        "\n",
        "    Returns:\n",
        "    list: A list of strings where each string represents a row of the square.\n",
        "\n",
        "    \"\"\"\n",
        "    b=[]\n",
        "    for i in range(n):\n",
        "\n",
        "        b.append('*'*n)\n",
        "    print(b)\n",
        "if __name__=='__main__':\n",
        "    # Your code here\n",
        "    a=int(input())\n",
        "    generate_square(a)\n"
      ],
      "metadata": {
        "colab": {
          "base_uri": "https://localhost:8080/"
        },
        "id": "etSCgh5k6-Ee",
        "outputId": "955df48c-009e-4049-8de8-15fc516c9c43"
      },
      "execution_count": null,
      "outputs": [
        {
          "output_type": "stream",
          "name": "stdout",
          "text": [
            "3\n",
            "['***', '***', '***']\n"
          ]
        }
      ]
    },
    {
      "cell_type": "markdown",
      "source": [
        "Ques2. Hollow Square of side 'N'\n",
        "Problem Description:\n",
        "\n",
        "You are given an integer n. Your task is to return a hollow square pattern of size n x n made up of the character '*', represented as a list of strings. The hollow square has '*' on the border, and spaces ' ' in the middle (except for side lengths of 1 and 2)."
      ],
      "metadata": {
        "id": "6RwNm22U-vPf"
      }
    },
    {
      "cell_type": "code",
      "source": [
        "def generate_hollow_square(n):\n",
        "    \"\"\"\n",
        "    Function to return a hollow square pattern of '*' of side n as a list of strings.\n",
        "\n",
        "    Parameters:\n",
        "    n (int): The size of the square.\n",
        "\n",
        "    Returns:\n",
        "    list: A list of strings where each string represents a row of the hollow square.\n",
        "    \"\"\"\n",
        "    # Your code here\n",
        "    b=[]\n",
        "    for i in range(n):\n",
        "      if i==0 or i==n-1:\n",
        "        b.append(\"*\"*n)\n",
        "      else:\n",
        "        b.append(\"*\"+\" \"*(n-2)+\"*\")\n",
        "    print(b)\n",
        "\n",
        "a=int(input())\n",
        "generate_hollow_square(a)"
      ],
      "metadata": {
        "colab": {
          "base_uri": "https://localhost:8080/"
        },
        "id": "TfpNGJDuEBjs",
        "outputId": "c246fee1-f302-4440-c81e-3a2773cac657"
      },
      "execution_count": null,
      "outputs": [
        {
          "output_type": "stream",
          "name": "stdout",
          "text": [
            "5\n",
            "['*****', '*   *', '*   *', '*   *', '*****']\n"
          ]
        }
      ]
    },
    {
      "cell_type": "markdown",
      "source": [
        "Ques3.Right Angled Triangle\n",
        "Problem Description:\n",
        "\n",
        "You are given an integer n. Your task is to return a right-angled triangle pattern of '*' where each side has n characters, represented as a list of strings. The triangle has '*' characters, starting with 1 star in the first row, 2 stars in the second row, and so on until the last row has n stars."
      ],
      "metadata": {
        "id": "o7iE1W7OGoUh"
      }
    },
    {
      "cell_type": "code",
      "source": [
        "def generate_triangle(n):\n",
        "    \"\"\"\n",
        "    Function to return a right-angled triangle of '*' of side n as a list of strings.\n",
        "\n",
        "    Parameters:\n",
        "    n (int): The height and base of the triangle.\n",
        "\n",
        "    Returns:\n",
        "    list: A list of strings where each string represents a row of the triangle.\n",
        "    \"\"\"\n",
        "    # Your code here\n",
        "    b=[]\n",
        "    for i in range(n):\n",
        "      b.append(\"*\"*(i+1))\n",
        "    print(b)\n",
        "n=int(input())\n",
        "generate_triangle(n)"
      ],
      "metadata": {
        "colab": {
          "base_uri": "https://localhost:8080/"
        },
        "id": "SXKwMvPbGsBW",
        "outputId": "5b03c285-e3f0-46fe-e7c1-a17e4870e7e7"
      },
      "execution_count": null,
      "outputs": [
        {
          "output_type": "stream",
          "name": "stdout",
          "text": [
            "5\n",
            "['*', '**', '***', '****', '*****']\n"
          ]
        }
      ]
    },
    {
      "cell_type": "code",
      "source": [
        "def generate_triangle(n):\n",
        "    \"\"\"\n",
        "    Function to return a right-angled triangle of '*' of side n as a list of strings.\n",
        "\n",
        "    Parameters:\n",
        "    n (int): The height and base of the triangle.\n",
        "\n",
        "    Returns:\n",
        "    list: A list of strings where each string represents a row of the triangle.\n",
        "    \"\"\"\n",
        "    # Your code here\n",
        "    b=[]\n",
        "    for i in range(n):\n",
        "      b.append(\"*\"*(i+1))\n",
        "      print(b[i])\n",
        "\n",
        "n=int(input())\n",
        "generate_triangle(n)"
      ],
      "metadata": {
        "colab": {
          "base_uri": "https://localhost:8080/"
        },
        "id": "21VJsu8sq3nY",
        "outputId": "d69da537-dacc-4233-b7f1-0358d0fdbcf2"
      },
      "execution_count": null,
      "outputs": [
        {
          "output_type": "stream",
          "name": "stdout",
          "text": [
            "5\n",
            "*\n",
            "**\n",
            "***\n",
            "****\n",
            "*****\n"
          ]
        }
      ]
    },
    {
      "cell_type": "code",
      "source": [
        "def generate_pyramid(n):\n",
        "    \"\"\"\n",
        "    Function to return a pyramid pattern of '*' of side n as a list of strings.\n",
        "\n",
        "    Parameters:\n",
        "    n (int): The number of rows in the pyramid.\n",
        "\n",
        "    Returns:\n",
        "    list: A list of strings where each string represents a row of the pyramid.\n",
        "    \"\"\"\n",
        "\n",
        "    # Your code here\n",
        "    for i in range(0,n):\n",
        "\n",
        "      print(\" \"*(n-i-1)+\"*\"*((i*2)+1))\n",
        "n=int(input())\n",
        "generate_pyramid(n)\n"
      ],
      "metadata": {
        "colab": {
          "base_uri": "https://localhost:8080/"
        },
        "id": "wqE4iqF3r0Lg",
        "outputId": "13313af0-5e7c-4f99-d888-ee8e3cf88bd8"
      },
      "execution_count": null,
      "outputs": [
        {
          "output_type": "stream",
          "name": "stdout",
          "text": [
            "5\n",
            "    *\n",
            "   ***\n",
            "  *****\n",
            " *******\n",
            "*********\n"
          ]
        }
      ]
    },
    {
      "cell_type": "markdown",
      "source": [
        "Ques4. You are given an integer n. Your task is to return an inverted pyramid pattern of '*', where each side has n rows, represented as a list of strings. The first row has 2n - 1 stars, the second row has 2n - 3 stars, and so on, until the last row has 1 star, with each row centered using spaces.\n",
        "\n"
      ],
      "metadata": {
        "id": "aZB6LjU73gqB"
      }
    },
    {
      "cell_type": "markdown",
      "source": [],
      "metadata": {
        "id": "RYnTMtTTHkL8"
      }
    },
    {
      "cell_type": "code",
      "source": [
        "def generate_inverted_pyramid(n):\n",
        "    \"\"\"\n",
        "    Function to return an inverted pyramid pattern of '*' of side n as a list of strings.\n",
        "\n",
        "    Parameters:\n",
        "    n (int): The number of rows in the inverted pyramid.\n",
        "\n",
        "    Returns:\n",
        "    list: A list of strings where each string represents a row of the inverted pyramid.\n",
        "    \"\"\"\n",
        "    # Your code here\n",
        "    for i in range(n-1,-1,-1):\n",
        "\n",
        "      print(\" \"*(n-i)+\"*\"*((i*2)+1))\n",
        "n=int(input())\n",
        "generate_inverted_pyramid(n)"
      ],
      "metadata": {
        "colab": {
          "base_uri": "https://localhost:8080/"
        },
        "id": "A8D6FNLb3yAE",
        "outputId": "543a0cec-632c-41e6-adef-57639203186a"
      },
      "execution_count": null,
      "outputs": [
        {
          "output_type": "stream",
          "name": "stdout",
          "text": [
            "5\n",
            " *********\n",
            "  *******\n",
            "   *****\n",
            "    ***\n",
            "     *\n"
          ]
        }
      ]
    },
    {
      "cell_type": "markdown",
      "source": [
        "Ques5. You are given an integer n. Your task is to return a diamond pattern of '*' with n rows for the upper part (the widest row will have 2n - 1 stars), and the lower part is the mirrored version of the upper part. Each row should be centered with appropriate spaces."
      ],
      "metadata": {
        "id": "0jMPjBV07Wt6"
      }
    },
    {
      "cell_type": "code",
      "source": [
        "def generate_diamond(n):\n",
        "    \"\"\"\n",
        "    Function to return a diamond pattern of '*' of side n as a list of strings.\n",
        "\n",
        "    Parameters:\n",
        "    n (int): The number of rows for the upper part of the diamond.\n",
        "\n",
        "    Returns:\n",
        "    list: A list of strings where each string represents a row of the diamond.\n",
        "    \"\"\"\n",
        "    # Your code here\n",
        "    for i in range(0,n):\n",
        "\n",
        "      print(\" \"*(n-i-1)+\"*\"*((i*2)+1))\n",
        "\n",
        "    for i in range(n-2,-1,-1):\n",
        "\n",
        "      print(\" \"*(n-i-1)+\"*\"*((i*2)+1))\n",
        "n=int(input())\n",
        "generate_diamond(n)"
      ],
      "metadata": {
        "id": "Cr2NuIKQ7a7h",
        "colab": {
          "base_uri": "https://localhost:8080/"
        },
        "outputId": "a966afdb-b715-4a41-f501-29fc65896fd0"
      },
      "execution_count": null,
      "outputs": [
        {
          "output_type": "stream",
          "name": "stdout",
          "text": [
            "5\n",
            "    *\n",
            "   ***\n",
            "  *****\n",
            " *******\n",
            "*********\n",
            " *******\n",
            "  *****\n",
            "   ***\n",
            "    *\n"
          ]
        }
      ]
    },
    {
      "cell_type": "code",
      "source": [],
      "metadata": {
        "id": "X-Gu4dX_hOWA"
      },
      "execution_count": null,
      "outputs": []
    }
  ]
}