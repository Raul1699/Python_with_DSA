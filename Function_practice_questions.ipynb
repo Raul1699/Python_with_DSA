{
  "nbformat": 4,
  "nbformat_minor": 0,
  "metadata": {
    "colab": {
      "provenance": []
    },
    "kernelspec": {
      "name": "python3",
      "display_name": "Python 3"
    },
    "language_info": {
      "name": "python"
    }
  },
  "cells": [
    {
      "cell_type": "markdown",
      "source": [
        "#Function_Practice_Questions\n",
        "\n",
        "Problem Description:\n",
        "\n",
        "You are given a temperature in Celsius. Your task is to convert it to Fahrenheit and return the result.\n",
        "\n",
        "Formula:\n",
        "\n",
        "To convert Celsius to Fahrenheit, use the formula:\n",
        "\n",
        "F = (9/5 * C) + 32\n",
        "\n",
        "Where F is the temperature in Fahrenheit and C is the temperature in Celsius.\n",
        "\n"
      ],
      "metadata": {
        "id": "vGsn7KT9lKtF"
      }
    },
    {
      "cell_type": "code",
      "source": [
        "def celsius_to_fahrenheit(C):\n",
        "  F=(9/5*C)+32\n",
        "  return F\n",
        "\n",
        "\n",
        "n=float(input(\"C = \"))\n",
        "print(celsius_to_fahrenheit(n))\n",
        "\n"
      ],
      "metadata": {
        "colab": {
          "base_uri": "https://localhost:8080/"
        },
        "id": "sFLt0_LslVLR",
        "outputId": "65090813-bd2b-46c5-a774-c5bee2aa758d"
      },
      "execution_count": 2,
      "outputs": [
        {
          "output_type": "stream",
          "name": "stdout",
          "text": [
            "C = 22\n",
            "71.6\n"
          ]
        }
      ]
    },
    {
      "cell_type": "markdown",
      "source": [
        "Problem Description:\n",
        "\n",
        "You are given the length and breadth of a rectangle. Your task is to compute and return the area of the rectangle.\n",
        "\n",
        "Formula:\n",
        "\n",
        "To calculate the area of a rectangle:\n",
        "\n",
        "Area=length×breadth\n",
        "\n"
      ],
      "metadata": {
        "id": "wlYmw-r-mpm3"
      }
    },
    {
      "cell_type": "code",
      "source": [
        "def area_of_rectangle(length, breadth):\n",
        "  area=length*breadth\n",
        "  return area\n",
        "\n",
        "l=float(input(\"enter length \"))\n",
        "b=float(input(\"enter breadth \"))\n",
        "print(area_of_rectangle(l,b))"
      ],
      "metadata": {
        "colab": {
          "base_uri": "https://localhost:8080/"
        },
        "id": "sUq-RNaunMO5",
        "outputId": "57df7ad2-8781-4166-88d4-0639848f427d"
      },
      "execution_count": 4,
      "outputs": [
        {
          "output_type": "stream",
          "name": "stdout",
          "text": [
            "enter length 22\n",
            "enter breadth 44\n",
            "968.0\n"
          ]
        }
      ]
    },
    {
      "cell_type": "markdown",
      "source": [
        "Problem Description:\n",
        "\n",
        "You are given the speed of a vehicle and the time it has traveled. Your task is to compute and return the distance traveled by the vehicle.\n",
        "\n",
        "Formula:\n",
        "\n",
        "To calculate the distance traveled by a vehicle:\n",
        "\n",
        "Distance=Speed×Time"
      ],
      "metadata": {
        "id": "7DkTn-bqoEge"
      }
    },
    {
      "cell_type": "code",
      "source": [
        "def calculate_distance(speed, time):\n",
        "  distance=speed*time\n",
        "  return distance\n",
        "\n",
        "s=float(input(\"enter speed \"))\n",
        "t=float(input(\"enter time \"))\n",
        "print(calculate_distance(s,t))\n"
      ],
      "metadata": {
        "colab": {
          "base_uri": "https://localhost:8080/"
        },
        "id": "cR1bsd_koFUw",
        "outputId": "b88aa4c6-05f3-4322-bfca-5fef3df3d46e"
      },
      "execution_count": 5,
      "outputs": [
        {
          "output_type": "stream",
          "name": "stdout",
          "text": [
            "enter speed 22\n",
            "enter time 26\n",
            "572.0\n"
          ]
        }
      ]
    },
    {
      "cell_type": "markdown",
      "source": [
        "Problem Description:\n",
        "\n",
        "You are given n, the total number of people, and capacity, the maximum number of people the lift can carry at a time. All people want to go from the ground floor to the top floor. Your task is to calculate the number of rounds the lift has to make to transport all the people to the top floor."
      ],
      "metadata": {
        "id": "v-wpFDL3o4d2"
      }
    },
    {
      "cell_type": "code",
      "source": [
        "import math\n",
        "def calculate_lift_rounds(n, capacity):\n",
        "  rounds=n/capacity\n",
        "  return math.ceil(rounds)\n",
        "\n",
        "n=int(input(\"enter number of people \"))\n",
        "c=int(input(\"enter capacity \"))\n",
        "print(calculate_lift_rounds(n,c))\n",
        "\n",
        "\n"
      ],
      "metadata": {
        "colab": {
          "base_uri": "https://localhost:8080/"
        },
        "id": "1kVGfjLXo48P",
        "outputId": "166eefe0-51d0-408c-d1df-87703c0fffea"
      },
      "execution_count": 9,
      "outputs": [
        {
          "output_type": "stream",
          "name": "stdout",
          "text": [
            "enter number of people 10\n",
            "enter capacity 3\n",
            "4\n"
          ]
        }
      ]
    },
    {
      "cell_type": "markdown",
      "source": [
        "Problem Description:\n",
        "\n",
        "You are given the slope m and the y-intercept b of a line, along with a value x. Your task is to calculate and return the value of y using the equation of a line in slope-intercept form:\n",
        "\n",
        "y=mx+b"
      ],
      "metadata": {
        "id": "ssAw0S2QsXIY"
      }
    },
    {
      "cell_type": "code",
      "source": [
        "def calculate_y(slope, intercept, x):\n",
        "  y=slope*x+intercept\n",
        "  return round(y,2)\n",
        "\n",
        "\n",
        "slope=float(input(\"enter slope \"))\n",
        "intercept=float(input(\"enter intercept \"))\n",
        "x=float(input(\"enter x \"))\n",
        "print(calculate_y(slope,intercept,x))"
      ],
      "metadata": {
        "colab": {
          "base_uri": "https://localhost:8080/"
        },
        "id": "w_YMEsrcsX9L",
        "outputId": "6f6b29d9-fd66-4cdf-db90-bd9e2c050644"
      },
      "execution_count": 12,
      "outputs": [
        {
          "output_type": "stream",
          "name": "stdout",
          "text": [
            "enter slope 1.67\n",
            "enter intercept 10\n",
            "enter x 9\n",
            "25.03\n"
          ]
        }
      ]
    }
  ]
}