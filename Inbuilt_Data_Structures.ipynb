{
  "nbformat": 4,
  "nbformat_minor": 0,
  "metadata": {
    "colab": {
      "provenance": []
    },
    "kernelspec": {
      "name": "python3",
      "display_name": "Python 3"
    },
    "language_info": {
      "name": "python"
    }
  },
  "cells": [
    {
      "cell_type": "markdown",
      "source": [
        "#Inbuilt Data Structures quesions.\n",
        "\n",
        "Problem Description\n",
        "\n",
        "Sum of List Elements\n",
        "\n",
        "Write a Python function that calculates the sum of all elements in a given list of integers.\n",
        "\n",
        "Parameters:\n",
        "\n",
        "numbers (List of integers): The input list containing integers.\n",
        "\n",
        "Returns:\n",
        "\n",
        "An integer representing the sum of all elements in the input list."
      ],
      "metadata": {
        "id": "iJXgtUQC0So2"
      }
    },
    {
      "cell_type": "code",
      "source": [
        "n=list(map(int,input(\" ENTER THE ELEMENTS OF LIST WITH SPACE\").split(\" \")))\n",
        "sum=0\n",
        "for i in n:\n",
        "  sum=sum+i\n",
        "print(sum)\n"
      ],
      "metadata": {
        "colab": {
          "base_uri": "https://localhost:8080/"
        },
        "id": "eWfuOC1_0h99",
        "outputId": "db1ed296-0e26-4c2c-e76d-32c0edd70a7e"
      },
      "execution_count": 2,
      "outputs": [
        {
          "output_type": "stream",
          "name": "stdout",
          "text": [
            " ENTER THE ELEMENTS OF LIST WITH SPACE10 9 8 7 6 5 4 3 2 1\n",
            "55\n"
          ]
        }
      ]
    },
    {
      "cell_type": "markdown",
      "source": [
        "Find the Largest Element in a List\n",
        "\n",
        "Write a Python function that finds and returns the largest element in a given list of integers.\n",
        "\n",
        "Parameters:\n",
        "\n",
        "numbers (List of integers): The input list containing integers.\n",
        "\n",
        "Returns:\n",
        "\n",
        "An integer representing the largest element in the input list."
      ],
      "metadata": {
        "id": "_Q5lCPyQ1SFZ"
      }
    },
    {
      "cell_type": "code",
      "source": [
        "n=list(map(int,input(\" ENTER THE ELEMENTS OF LIST WITH SPACE\").split(\" \")))\n",
        "max=n[0]\n",
        "for i in n:\n",
        "  if i>max:\n",
        "    max=i\n",
        "print(max)\n"
      ],
      "metadata": {
        "colab": {
          "base_uri": "https://localhost:8080/"
        },
        "id": "IwFnImKt1cxF",
        "outputId": "519e39e9-a5b8-493f-f71a-12eae20e013d"
      },
      "execution_count": 3,
      "outputs": [
        {
          "output_type": "stream",
          "name": "stdout",
          "text": [
            " ENTER THE ELEMENTS OF LIST WITH SPACE6 5 710 9 8 4\n",
            "710\n"
          ]
        }
      ]
    },
    {
      "cell_type": "markdown",
      "source": [
        "Remove Duplicates from a List\n",
        "\n",
        "You are given a list of integers. Write a Python program that removes any duplicate elements from the list and returns a new list with only unique elements. The order of elements in the list should be maintained.\n",
        "\n",
        "Parameters:\n",
        "\n",
        "lst (List of integers): The list of integers from which duplicates should be removed.\n",
        "\n",
        "Returns:\n",
        "\n",
        "A list of integers where all duplicates have been removed, preserving the original order."
      ],
      "metadata": {
        "id": "K22tc4FOoSff"
      }
    },
    {
      "cell_type": "code",
      "source": [
        "def remove_duplicates(lst):\n",
        "    unique_list = []\n",
        "    for element in lst:\n",
        "        if element not in unique_list:\n",
        "            unique_list.append(element)\n",
        "    return unique_list\n",
        "\n",
        "n=list(map(int,input(\" ENTER THE ELEMENTS OF LIST WITH SPACE \").split(\" \")))\n",
        "print(remove_duplicates(n))"
      ],
      "metadata": {
        "colab": {
          "base_uri": "https://localhost:8080/"
        },
        "id": "HDO4mn7qoTV3",
        "outputId": "c152ac98-feef-4704-b4a9-77d9f3482215"
      },
      "execution_count": 3,
      "outputs": [
        {
          "output_type": "stream",
          "name": "stdout",
          "text": [
            " ENTER THE ELEMENTS OF LIST WITH SPACE 1 1 22 3 3 4 4\n",
            "[1, 22, 3, 4]\n"
          ]
        }
      ]
    },
    {
      "cell_type": "markdown",
      "source": [
        "Reverse a List (Non-Slicing Approach)\n",
        "\n",
        "You are given a list of integers. Write a Python program that reverses the list without using slicing (lst[::-1]). The program should return the reversed list.\n",
        "\n",
        "Parameters:\n",
        "\n",
        "lst (List of integers): The list of integers to be reversed.\n",
        "\n",
        "Returns:\n",
        "\n",
        "A list of integers where the order of elements is reversed from the input list."
      ],
      "metadata": {
        "id": "yJ8mIGbzpL44"
      }
    },
    {
      "cell_type": "code",
      "source": [
        "def reverse_list(lst):\n",
        "  return lst[::-1]\n",
        "\n",
        "\n",
        "\n",
        "\n",
        "\n",
        "n=list(map(int,input(\" ENTER THE ELEMENTS OF LIST WITH SPACE \").split(\" \")))\n",
        "print(reverse_list(n))"
      ],
      "metadata": {
        "colab": {
          "base_uri": "https://localhost:8080/"
        },
        "id": "-ohNVfEpplHb",
        "outputId": "270b2480-555b-4fa8-e3e5-d2efe880803f"
      },
      "execution_count": 4,
      "outputs": [
        {
          "output_type": "stream",
          "name": "stdout",
          "text": [
            " ENTER THE ELEMENTS OF LIST WITH SPACE 1 2 3 4 5 6 7 8 9\n",
            "[9, 8, 7, 6, 5, 4, 3, 2, 1]\n"
          ]
        }
      ]
    },
    {
      "cell_type": "markdown",
      "source": [
        "Count Even and Odd Numbers in a List\n",
        "\n",
        "You are given a list of integers. Write a Python program that counts and returns the number of even and odd numbers in the list.\n",
        "\n",
        "Parameters:\n",
        "\n",
        "lst (List of integers): The list of integers where you will count the even and odd numbers.\n",
        "\n",
        "Returns:\n",
        "\n",
        "A tuple (even_count, odd_count) where even_count is the number of even numbers and odd_count is the number of odd numbers."
      ],
      "metadata": {
        "id": "16Wry4zVqrKo"
      }
    },
    {
      "cell_type": "code",
      "source": [
        "def count_even_odd(lst):\n",
        "  even_count=0\n",
        "  odd_count=0\n",
        "  for i in lst:\n",
        "    if i%2==0:\n",
        "      even_count +=1\n",
        "    else:\n",
        "      odd_count +=1\n",
        "\n",
        "  return (even_count,odd_count )\n",
        "\n",
        "\n",
        "\n",
        "n=list(map(int,input(\" ENTER THE ELEMENTS OF LIST WITH SPACE \").split(\" \")))\n",
        "print(count_even_odd(n))"
      ],
      "metadata": {
        "colab": {
          "base_uri": "https://localhost:8080/"
        },
        "id": "xFUAxInmqsp5",
        "outputId": "32bdaed8-ecd3-444c-c467-44ff90d39c76"
      },
      "execution_count": 6,
      "outputs": [
        {
          "output_type": "stream",
          "name": "stdout",
          "text": [
            " ENTER THE ELEMENTS OF LIST WITH SPACE 1 2 3 4 5 6 7 8\n",
            "(4, 4)\n"
          ]
        }
      ]
    },
    {
      "cell_type": "markdown",
      "source": [
        "Check if a List is a Subset of Another List (Brute Force Approach)\n",
        "\n",
        "You are given two lists of integers. Write a Python program that checks whether the first list is a subset of the second list using a brute-force approach, without using the in keyword. A list is considered a subset if all elements of the first list are present in the second list.\n",
        "\n",
        "Parameters:\n",
        "\n",
        "lst1 (List of integers): The first list, which is being checked as a subset.\n",
        "\n",
        "lst2 (List of integers): The second list, which is the list to compare against.\n",
        "\n",
        "Returns:\n",
        "\n",
        "A boolean value True if lst1 is a subset of lst2, otherwise False."
      ],
      "metadata": {
        "id": "7ZidZmIYzsxv"
      }
    },
    {
      "cell_type": "code",
      "source": [
        "def is_subset(lst1, lst2):\n",
        "    for element in lst1:\n",
        "        if element not in lst2:\n",
        "            return False\n",
        "    return True\n",
        "\n",
        "\n",
        "lst1 = [1, 2, 3]\n",
        "lst2 = [1, 2, 3, 4, 5]\n",
        "print(is_subset(lst1, lst2))\n"
      ],
      "metadata": {
        "colab": {
          "base_uri": "https://localhost:8080/"
        },
        "id": "imTaeKxrvm4L",
        "outputId": "f658c91c-b946-44b5-8bd6-a0b438ec70aa"
      },
      "execution_count": 8,
      "outputs": [
        {
          "output_type": "stream",
          "name": "stdout",
          "text": [
            "True\n"
          ]
        }
      ]
    },
    {
      "cell_type": "markdown",
      "source": [
        "Find Maximum Difference Between Two Consecutive Elements (Brute Force Approach)\n",
        "\n",
        "You are given a list of integers. Write a Python program to find the maximum difference between two consecutive elements in the list using a brute-force approach. The difference is defined as the absolute value of the difference between two consecutive elements.\n",
        "\n",
        "Parameters:\n",
        "\n",
        "lst (List of integers): A list of integers.\n",
        "\n",
        "Returns:\n",
        "\n",
        "An integer representing the maximum difference between two consecutive elements."
      ],
      "metadata": {
        "id": "uJADeHCT03P5"
      }
    },
    {
      "cell_type": "code",
      "source": [
        "def max_consecutive_difference(lst):\n",
        "  max_diff=0\n",
        "  diff=0\n",
        "  for i in range(len(lst)-1):\n",
        "    diff=abs(lst[i]-lst[i+1])\n",
        "    if diff>max_diff:\n",
        "      max_diff=diff\n",
        "  return max_diff\n",
        "\n",
        "\n",
        "n=list(map(int,input(\" ENTER THE ELEMENTS OF LIST WITH SPACE \").split(\" \")))\n",
        "print(max_consecutive_difference(n))\n"
      ],
      "metadata": {
        "colab": {
          "base_uri": "https://localhost:8080/"
        },
        "id": "H7smUa94036v",
        "outputId": "689e55ea-46d2-4da1-aa26-ee2646fcc97c"
      },
      "execution_count": 11,
      "outputs": [
        {
          "output_type": "stream",
          "name": "stdout",
          "text": [
            " ENTER THE ELEMENTS OF LIST WITH SPACE 1 7 3 10 5\n",
            "7\n"
          ]
        }
      ]
    },
    {
      "cell_type": "markdown",
      "source": [
        "Merge Two Sorted Lists\n",
        "\n",
        "You are given two sorted lists of integers. Write a Python function to merge these two sorted lists into one sorted list. The resulting list should also be in non-decreasing order.\n",
        "\n",
        "Parameters:\n",
        "\n",
        "list1 (List of integers): The first sorted list.\n",
        "\n",
        "list2 (List of integers): The second sorted list.\n",
        "\n",
        "Returns:\n",
        "\n",
        "A single list of integers, containing all elements from list1 and list2, sorted in non-decreasing order."
      ],
      "metadata": {
        "id": "CoqTUH7-3rqd"
      }
    },
    {
      "cell_type": "code",
      "source": [
        "def merge_two_sorted_lists(list1, list2):\n",
        "    list1.extend(list2)\n",
        "    merged_list = list1\n",
        "    merged_list.sort()\n",
        "    return merged_list\n",
        "\n",
        "\n",
        "\n",
        "list1 = [1, 3, 5]\n",
        "list2 = [2, 4, 6]\n",
        "print(merge_two_sorted_lists(list1, list2))"
      ],
      "metadata": {
        "colab": {
          "base_uri": "https://localhost:8080/"
        },
        "id": "JLPuXnH33LMo",
        "outputId": "d94343bf-a2bc-4e46-815a-44e4148720a0"
      },
      "execution_count": 17,
      "outputs": [
        {
          "output_type": "stream",
          "name": "stdout",
          "text": [
            "[1, 2, 3, 4, 5, 6]\n"
          ]
        }
      ]
    },
    {
      "cell_type": "markdown",
      "source": [
        "Design a Python function named merge_lists_to_dictionary to merge two lists into a dictionary where elements from the first list act as keys and elements from the second list act as values.\n",
        "\n",
        "Parameters:\n",
        "\n",
        "keys (List): A list of keys.\n",
        "\n",
        "values (List): A list of values.\n",
        "\n",
        "Returns:\n",
        "\n",
        "A dictionary containing merged key-value pairs."
      ],
      "metadata": {
        "id": "PFweMIGo7Sen"
      }
    },
    {
      "cell_type": "code",
      "source": [
        "def merge_lists_to_dictionary(keys, values):\n",
        "  dt={}\n",
        "  for i in range(len(keys)):\n",
        "    dt[keys[i]]=values[i]\n",
        "  return dt\n",
        "keys = ['a', 'b', 'c']\n",
        "values = [1, 2, 3]\n",
        "print(merge_lists_to_dictionary(keys,values))"
      ],
      "metadata": {
        "colab": {
          "base_uri": "https://localhost:8080/"
        },
        "id": "s3VZ8NOt3wTI",
        "outputId": "cf90707c-9410-4d5a-a8ec-7ea6cc67c1f0"
      },
      "execution_count": 19,
      "outputs": [
        {
          "output_type": "stream",
          "name": "stdout",
          "text": [
            "{'a': 1, 'b': 2, 'c': 3}\n"
          ]
        }
      ]
    },
    {
      "cell_type": "markdown",
      "source": [
        "Merge Three Dictionaries\n",
        "\n",
        "Design a Python function named merge_three_dictionaries to merge exactly three dictionaries into one.\n",
        "\n",
        "Parameters:\n",
        "\n",
        "dict1 (Dictionary): The first dictionary to be merged.\n",
        "\n",
        "dict2 (Dictionary): The second dictionary to be merged.\n",
        "\n",
        "dict3 (Dictionary): The third dictionary to be merged.\n",
        "\n",
        "Returns:\n",
        "\n",
        "A single dictionary containing all key-value pairs from the three input dictionaries."
      ],
      "metadata": {
        "id": "nsbijgk--Aeo"
      }
    },
    {
      "cell_type": "code",
      "source": [
        "def merge_three_dictionaries(dict1, dict2, dict3):\n",
        "  dt={}\n",
        "  dt.update(dict1)\n",
        "  dt.update(dict2)\n",
        "  dt.update(dict3)\n",
        "  return dt\n",
        "\n",
        "\n",
        "\n",
        "\n",
        "a1,a2,a3=({'a': 1, 'b': 2}, {'c': 3, 'd': 4}, {'e': 5, 'f': 6})\n",
        "merge_three_dictionaries(a1,a2,a3)"
      ],
      "metadata": {
        "colab": {
          "base_uri": "https://localhost:8080/"
        },
        "id": "HYNzWpgC3zo9",
        "outputId": "e2b32d40-e9b1-4d3a-856f-42629546fa71"
      },
      "execution_count": 20,
      "outputs": [
        {
          "output_type": "execute_result",
          "data": {
            "text/plain": [
              "{'a': 1, 'b': 2, 'c': 3, 'd': 4, 'e': 5, 'f': 6}"
            ]
          },
          "metadata": {},
          "execution_count": 20
        }
      ]
    },
    {
      "cell_type": "markdown",
      "source": [
        "Count Word Frequency\n",
        "\n",
        "Design a Python function named count_word_frequency to count the frequency of words in a sentence and store the counts in a dictionary.\n",
        "\n",
        "Parameters:\n",
        "\n",
        "sentence (str): The input sentence where you need to count the frequency of each word.\n",
        "\n",
        "Returns:\n",
        "\n",
        "A dictionary where the keys are words from the sentence and the values are their corresponding frequencies."
      ],
      "metadata": {
        "id": "vmNKMGhqDbqF"
      }
    },
    {
      "cell_type": "code",
      "source": [
        "from collections import Counter\n",
        "def count_word_frequency(sentence):\n",
        "  a=s.split(\" \")\n",
        "  b=Counter(a)\n",
        "  return b\n",
        "\n",
        "\n",
        "\n",
        "s=\"the quick brown fox jumps over the lazy dog\"\n",
        "print(count_word_frequency(s))"
      ],
      "metadata": {
        "colab": {
          "base_uri": "https://localhost:8080/"
        },
        "id": "naAGMO0UDab5",
        "outputId": "7aafb333-ef7e-4f3f-d046-516927e72da3"
      },
      "execution_count": 23,
      "outputs": [
        {
          "output_type": "stream",
          "name": "stdout",
          "text": [
            "Counter({'the': 2, 'quick': 1, 'brown': 1, 'fox': 1, 'jumps': 1, 'over': 1, 'lazy': 1, 'dog': 1})\n"
          ]
        }
      ]
    },
    {
      "cell_type": "code",
      "source": [],
      "metadata": {
        "id": "3qo-TLcAIlmQ"
      },
      "execution_count": null,
      "outputs": []
    }
  ]
}