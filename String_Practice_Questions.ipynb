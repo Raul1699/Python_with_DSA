{
  "nbformat": 4,
  "nbformat_minor": 0,
  "metadata": {
    "colab": {
      "provenance": []
    },
    "kernelspec": {
      "name": "python3",
      "display_name": "Python 3"
    },
    "language_info": {
      "name": "python"
    }
  },
  "cells": [
    {
      "cell_type": "markdown",
      "source": [
        "#Strings\n",
        "\n",
        "You are given a string s. Your task is to return the reversed version of the string.\n",
        "\n",
        "\n",
        "\n",
        "Input:\n",
        "\n",
        "A single string s, where the length of s is between 1 and 1000.\n",
        "\n",
        "\n",
        "\n",
        "Output:\n",
        "\n",
        "A single string that is the reverse of the input string.\n",
        "\n"
      ],
      "metadata": {
        "id": "YVbKowECSchd"
      }
    },
    {
      "cell_type": "code",
      "source": [
        "a=\"hello\"\n",
        "print(a[::-1])"
      ],
      "metadata": {
        "colab": {
          "base_uri": "https://localhost:8080/"
        },
        "id": "tlRH9S_ZSjlh",
        "outputId": "6d0e3649-363e-4a95-8573-07ea83224da8"
      },
      "execution_count": 1,
      "outputs": [
        {
          "output_type": "stream",
          "name": "stdout",
          "text": [
            "olleh\n"
          ]
        }
      ]
    },
    {
      "cell_type": "markdown",
      "source": [
        "Problem Description:\n",
        "\n",
        "You are given two strings s and t. Your task is to check if the two strings are equal. Two strings are considered equal if they have the same length and the same characters at each position. You are not allowed to use any built-in string comparison functions."
      ],
      "metadata": {
        "id": "P1ClfMVESzh1"
      }
    },
    {
      "cell_type": "code",
      "source": [
        "s = \"hello\"\n",
        "t = \"helle\"\n",
        "\n",
        "s==t"
      ],
      "metadata": {
        "colab": {
          "base_uri": "https://localhost:8080/"
        },
        "id": "p0KN4t2XTIt3",
        "outputId": "94f148e9-2974-422d-878b-1386a417085f"
      },
      "execution_count": 3,
      "outputs": [
        {
          "output_type": "execute_result",
          "data": {
            "text/plain": [
              "False"
            ]
          },
          "metadata": {},
          "execution_count": 3
        }
      ]
    },
    {
      "cell_type": "markdown",
      "source": [
        "Problem Description:\n",
        "\n",
        "You are given a string s. Your task is to check if the string is a palindrome. A string is considered a palindrome if it reads the same forward and backward, ignoring spaces, punctuation, and case.\n",
        "\n",
        "\n",
        "\n",
        "Input:\n",
        "\n",
        "A single string s, where the length of s is between 1 and 1000.\n",
        "\n",
        "\n",
        "\n",
        "Output:\n",
        "\n",
        "A boolean value: True if the string is a palindrome, and False otherwise."
      ],
      "metadata": {
        "id": "ec8iyCdBTX7s"
      }
    },
    {
      "cell_type": "code",
      "source": [
        "s= \"A man a plan a canal Panama\"\n",
        "s=s.lower().replace(\" \",\"\")\n",
        "t=s[::-1]\n",
        "t==s"
      ],
      "metadata": {
        "colab": {
          "base_uri": "https://localhost:8080/"
        },
        "id": "Fczm7T9HT90z",
        "outputId": "17c77662-bf8c-4307-dacf-a8c5522526a1"
      },
      "execution_count": 8,
      "outputs": [
        {
          "output_type": "execute_result",
          "data": {
            "text/plain": [
              "True"
            ]
          },
          "metadata": {},
          "execution_count": 8
        }
      ]
    },
    {
      "cell_type": "markdown",
      "source": [
        "You are given a string s. Your task is to count the number of words in the string and return the total count. A word is defined as a sequence of characters separated by spaces."
      ],
      "metadata": {
        "id": "nR8uUh1jhLU-"
      }
    },
    {
      "cell_type": "code",
      "source": [
        "s=\"Python programming is fun.\"\n",
        "print(len(s.split(\" \")))"
      ],
      "metadata": {
        "colab": {
          "base_uri": "https://localhost:8080/"
        },
        "id": "p_YLlyhPhL-c",
        "outputId": "70e242fe-0b97-4dd5-bfd1-8fd375580ddf"
      },
      "execution_count": 9,
      "outputs": [
        {
          "output_type": "stream",
          "name": "stdout",
          "text": [
            "4\n"
          ]
        }
      ]
    },
    {
      "cell_type": "markdown",
      "source": [
        "Problem Description:\n",
        "\n",
        "You are given a string s. Your task is to remove duplicate characters from the string while preserving the order of the first occurrences and return the modified string."
      ],
      "metadata": {
        "id": "jnuzjj7Ahw7n"
      }
    },
    {
      "cell_type": "code",
      "source": [
        "s=\"Hello, World!\"\n",
        "t=list(set(s))\n",
        "print(\"\".join(t))"
      ],
      "metadata": {
        "colab": {
          "base_uri": "https://localhost:8080/"
        },
        "id": "BsDoMxQkhxd1",
        "outputId": "45db63bf-db51-4c20-ec3d-38d8ccd6edc4"
      },
      "execution_count": 11,
      "outputs": [
        {
          "output_type": "stream",
          "name": "stdout",
          "text": [
            "deHo, Wlr!\n"
          ]
        }
      ]
    },
    {
      "cell_type": "markdown",
      "source": [
        "You are given a string s. Your task is to count the number of consonants in the string and return the total count. A consonant is any alphabetic character that is not a vowel (a, e, i, o, u)."
      ],
      "metadata": {
        "id": "AjAaTSaPixkm"
      }
    },
    {
      "cell_type": "code",
      "source": [
        "def count_consonants(string):\n",
        "    # Define vowels\n",
        "    vowels = \"aeiouAEIOU\"\n",
        "    consonant_count = 0\n",
        "\n",
        "    # Loop through each character in the string\n",
        "    for char in string:\n",
        "        # Check if the character is an alphabet and not a vowel\n",
        "        if char.isalpha() and char not in vowels:\n",
        "            consonant_count += 1\n",
        "\n",
        "    return consonant_count\n",
        "\n",
        "\n",
        "# Input from the user\n",
        "input_string = input(\"Enter a string: \")\n",
        "\n",
        "# Call the function and print the result\n",
        "result = count_consonants(input_string)\n",
        "print(f\"The number of consonants in the string is: {result}\")\n"
      ],
      "metadata": {
        "colab": {
          "base_uri": "https://localhost:8080/"
        },
        "id": "5bY1ozfPiLC4",
        "outputId": "fa245951-baf3-4249-e33d-add12ad49bf9"
      },
      "execution_count": 13,
      "outputs": [
        {
          "output_type": "stream",
          "name": "stdout",
          "text": [
            "Enter a string: Python Programming\n",
            "The number of consonants in the string is: 13\n"
          ]
        }
      ]
    },
    {
      "cell_type": "markdown",
      "source": [
        "Problem Description:\n",
        "\n",
        "You are given two strings s and t. Your task is to determine if string t is a subsequence of string s. A subsequence of a string is a new string that is formed from the original string by deleting some (or no) characters without changing the order of the remaining characters.\n",
        "\n",
        "\n",
        "\n",
        "Input:\n",
        "\n",
        "Two strings s and t where the length of s is between 1 and 1000, and the length of t is between 1 and 1000.\n",
        "\n",
        "\n",
        "\n",
        "Output:\n",
        "\n",
        "Return True if t is a subsequence of s, and False otherwise.\n",
        "\n"
      ],
      "metadata": {
        "id": "Z5njsFdp4WKl"
      }
    },
    {
      "cell_type": "code",
      "source": [
        "def is_subsequence(s, t):\n",
        "  u=True\n",
        "  a=[]\n",
        "  for i in range(len(t)):\n",
        "    for j in range(len(s)):\n",
        "      if t[i]==s[j]:\n",
        "        a.append(j)\n",
        "  if len(a)!=len(t):\n",
        "    u=False\n",
        "  else:\n",
        "\n",
        "\n",
        "    for i in range(len(a)-1):\n",
        "      if a[i] < a[i+1] :\n",
        "        u=True\n",
        "      else:\n",
        "        u=False\n",
        "        break;\n",
        "\n",
        "  return u\n",
        "\n",
        "\n",
        "\n",
        "\n",
        "s = \"abcde\"\n",
        "t = \"aec\"\n",
        "\n",
        "is_subsequence(s,t)"
      ],
      "metadata": {
        "colab": {
          "base_uri": "https://localhost:8080/"
        },
        "id": "Fjnjzdpb4WyR",
        "outputId": "8745574f-b25d-4ab8-d7b4-6c1c668e916e"
      },
      "execution_count": 4,
      "outputs": [
        {
          "output_type": "execute_result",
          "data": {
            "text/plain": [
              "False"
            ]
          },
          "metadata": {},
          "execution_count": 4
        }
      ]
    },
    {
      "cell_type": "markdown",
      "source": [
        "Problem Description:\n",
        "\n",
        "You are given two strings, s and t. Your task is to determine if the string t is a substring of the string s. A substring is a contiguous sequence of characters within a string. Do not use any built-in functions for string operations and do not use recursion.\n",
        "\n",
        "\n",
        "\n",
        "Input:\n",
        "\n",
        "Two strings s and t, where 1 <= len(s), len(t) <= 1000.\n",
        "\n",
        "\n",
        "\n",
        "Output:\n",
        "\n",
        "A boolean value (True or False) indicating whether t is a substring of s."
      ],
      "metadata": {
        "id": "Em91rFhq8RGG"
      }
    },
    {
      "cell_type": "code",
      "source": [
        "def is_substring(s, t):\n",
        "\n",
        "  for i in range(len(s)-len(t)+1):\n",
        "    if s[i:i+(len(s)-len(t))]==t:\n",
        "      return True\n",
        "  return False\n",
        "\n",
        "\n",
        "\n",
        "s = \"hello world\"\n",
        "t = \"world\"\n",
        "\n",
        "is_substring(s,t)\n",
        ""
      ],
      "metadata": {
        "colab": {
          "base_uri": "https://localhost:8080/"
        },
        "id": "5xoyzeNX8SBc",
        "outputId": "43f5a05b-1ed7-4ac7-a7fc-123858a97e96"
      },
      "execution_count": 7,
      "outputs": [
        {
          "output_type": "execute_result",
          "data": {
            "text/plain": [
              "True"
            ]
          },
          "metadata": {},
          "execution_count": 7
        }
      ]
    }
  ]
}